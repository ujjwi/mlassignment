{
  "nbformat": 4,
  "nbformat_minor": 0,
  "metadata": {
    "colab": {
      "provenance": []
    },
    "kernelspec": {
      "name": "python3",
      "display_name": "Python 3"
    },
    "language_info": {
      "name": "python"
    }
  },
  "cells": [
    {
      "cell_type": "code",
      "execution_count": 3,
      "metadata": {
        "colab": {
          "base_uri": "https://localhost:8080/"
        },
        "id": "rimmCXikdRZX",
        "outputId": "9c0fd0f7-9509-4ece-cf39-63e93ce7d7f4"
      },
      "outputs": [
        {
          "output_type": "stream",
          "name": "stdout",
          "text": [
            "      fixed acidity  volatile acidity  citric acid  residual sugar  chlorides  \\\n",
            "810        0.238938          0.136986         0.23        0.095890   0.090150   \n",
            "448        0.265487          0.198630         0.14        0.143836   0.125209   \n",
            "293        0.194690          0.445205         0.00        0.061644   0.090150   \n",
            "614        0.256637          0.205479         0.32        0.123288   0.091820   \n",
            "783        0.548673          0.239726         0.43        0.082192   0.265442   \n",
            "948        0.176991          0.315068         0.02        0.102740   0.095159   \n",
            "1039       0.159292          0.205479         0.09        0.095890   0.070117   \n",
            "667        0.495575          0.219178         0.58        0.219178   0.133556   \n",
            "818        0.442478          0.205479         0.35        0.082192   0.118531   \n",
            "381        0.309735          0.482877         0.24        0.082192   0.120200   \n",
            "\n",
            "      free sulfur dioxide  total sulfur dioxide   density        pH  \\\n",
            "810              0.507463              0.226148  0.426579  0.543307   \n",
            "448              0.298507              0.130742  0.464758  0.456693   \n",
            "293              0.492537              0.162544  0.552863  0.692913   \n",
            "614              0.089552              0.067138  0.455947  0.393701   \n",
            "783              0.388060              0.212014  0.596916  0.338583   \n",
            "948              0.268657              0.120141  0.279001  0.503937   \n",
            "1039             0.492537              0.204947  0.526432  0.527559   \n",
            "667              0.149254              0.063604  0.541850  0.433071   \n",
            "818              0.238806              0.113074  0.451542  0.385827   \n",
            "381              0.059701              0.024735  0.523495  0.496063   \n",
            "\n",
            "      sulphates   alcohol  quality    Id  \n",
            "810    0.173653  0.261538        0  1144  \n",
            "448    0.143713  0.323077        0   632  \n",
            "293    0.209581  0.230769        0   419  \n",
            "614    0.065868  0.307692        0   862  \n",
            "783    0.257485  0.369231        0  1109  \n",
            "948    0.197605  0.646154        0  1335  \n",
            "1039   0.209581  0.307692        0  1460  \n",
            "667    0.395210  0.553846        1   946  \n",
            "818    0.197605  0.415385        0  1153  \n",
            "381    0.263473  0.353846        0   537  \n"
          ]
        }
      ],
      "source": [
        "import pandas as pd\n",
        "import numpy as np\n",
        "\n",
        "# Load the dataset\n",
        "df = pd.read_csv('/content/WineQT.csv')\n",
        "\n",
        "# Convert quality attribute\n",
        "df['quality'] = (df['quality'] > 6).astype(int)\n",
        "\n",
        "# Select features to normalize (exclude 'quality' and 'Id')\n",
        "features_to_normalize = df.columns.drop(['quality', 'Id'])\n",
        "\n",
        "# Perform min-max scaling on selected features\n",
        "for feature in features_to_normalize:\n",
        "    min_value = df[feature].min()\n",
        "    max_value = df[feature].max()\n",
        "    df[feature] = (df[feature] - min_value) / (max_value - min_value)\n",
        "\n",
        "# Display 10 random rows of the transformed dataset\n",
        "print(df.sample(10))\n",
        "\n",
        "# Optional: Save the transformed dataset\n",
        "# df.to_csv('transformed_wine_quality_data.csv', index=False)"
      ]
    }
  ]
}